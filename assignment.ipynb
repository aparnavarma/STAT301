Individual Assignment 1 (Planning Stage: Data Description & Exploratory Data Analysis)
Name : Aparna Varma
Group Number : 22


Data Description

Number of observations : 1000
Number of variables : 8

Name and Type of Variables:

Number_of_Customers : The total count of customers visiting the restaurant 
Menu_Price : Average menu prices of the restaurant
Marketing_Spend : Expenditure of the restaurant on marketing activities
Cuisine_Type: The type of cuisine the restaurant offers (Japanese, Italian, American and Mexican)
Average_Customer_Spending : Average amount spent by each customer
Promotions : Binary variable (0 or 1) which indicates whether the restaurant is conducting a promotion
Reviews : Number of reviews received by the restaurant
Monthly_Revenue: Simulated monthly revenue, the target variable for prediction


Question 

I will explore how Menu_Price and Promotions (explanatory variables) predict the Monthly_Revenue of a restaurant. The analysis will use Multiple Linear Regression to assess the relationship between these explanatory variables and Monthly_Revenue

